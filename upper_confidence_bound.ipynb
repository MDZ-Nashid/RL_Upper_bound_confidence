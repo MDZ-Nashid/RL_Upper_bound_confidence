{
  "nbformat": 4,
  "nbformat_minor": 0,
  "metadata": {
    "colab": {
      "provenance": []
    },
    "kernelspec": {
      "name": "python3",
      "display_name": "Python 3"
    }
  },
  "cells": [
    {
      "cell_type": "markdown",
      "metadata": {
        "id": "QJdrJJQUv3-k"
      },
      "source": [
        "# Upper Confidence Bound (UCB)"
      ]
    },
    {
      "cell_type": "markdown",
      "metadata": {
        "id": "2XCjepjJwEv-"
      },
      "source": [
        "## Importing the libraries"
      ]
    },
    {
      "cell_type": "code",
      "metadata": {
        "id": "l_mBkG3YwNTt"
      },
      "source": [
        "import numpy as np\n",
        "import matplotlib.pyplot as plt\n",
        "import pandas as pd"
      ],
      "execution_count": 1,
      "outputs": []
    },
    {
      "cell_type": "markdown",
      "metadata": {
        "id": "npqlXjaNwYTv"
      },
      "source": [
        "## Importing the dataset"
      ]
    },
    {
      "cell_type": "code",
      "metadata": {
        "id": "HMJfUVLVwcFc"
      },
      "source": [
        "dataset = pd.read_csv('Ads_CTR_Optimisation.csv')"
      ],
      "execution_count": 2,
      "outputs": []
    },
    {
      "cell_type": "markdown",
      "metadata": {
        "id": "PaSbots_wfoB"
      },
      "source": [
        "## Implementing UCB"
      ]
    },
    {
      "cell_type": "code",
      "source": [
        "import math\n",
        "N = 10000\n",
        "d = 10\n",
        "selected_ads = []\n",
        "number_of_selection = [0] * d\n",
        "sum_of_rewards = [0] * d\n",
        "total_reward = 0\n",
        "\n",
        "for n in range(0,N):\n",
        "  ad = 0\n",
        "  max_upper = 0\n",
        "  for i in range(0,d):\n",
        "    if (number_of_selection[i] > 0):\n",
        "      avarage_reward = sum_of_rewards[i] / number_of_selection[i]\n",
        "      delta_i = math.sqrt(3/2 * math.log(n + 1) / number_of_selection[i])\n",
        "      upper_bound = avarage_reward + delta_i\n",
        "    else:\n",
        "      upper_bound = 1e400\n",
        "\n",
        "    if (upper_bound > max_upper):\n",
        "      max_upper = upper_bound\n",
        "      ad = i\n",
        "\n",
        "  selected_ads.append(ad)\n",
        "  number_of_selection[ad] += 1\n",
        "  reward = dataset.values[n,ad]\n",
        "  sum_of_rewards[ad] += reward\n",
        "  total_reward += reward"
      ],
      "metadata": {
        "collapsed": true,
        "id": "xlA7b77mDMlP"
      },
      "execution_count": 10,
      "outputs": []
    },
    {
      "cell_type": "markdown",
      "metadata": {
        "id": "AXftWcjDwsYj"
      },
      "source": [
        "## Visualising the results"
      ]
    },
    {
      "cell_type": "code",
      "source": [
        "plt.hist(selected_ads)\n",
        "plt.title(\"CTR using UCB\")\n",
        "plt.xlabel(\"ads\")\n",
        "plt.ylabel(\"number time ads selected\")\n",
        "plt.show()"
      ],
      "metadata": {
        "colab": {
          "base_uri": "https://localhost:8080/",
          "height": 472
        },
        "id": "kIzcLaBehS-s",
        "outputId": "8323ed96-5560-46db-f980-391fb3fb7333"
      },
      "execution_count": 11,
      "outputs": [
        {
          "output_type": "display_data",
          "data": {
            "text/plain": [
              "<Figure size 640x480 with 1 Axes>"
            ],
            "image/png": "[encoded data removed]"
          },
          "metadata": {}
        }
      ]
    }
  ]
}